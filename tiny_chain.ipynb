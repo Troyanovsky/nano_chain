{
  "cells": [
    {
      "cell_type": "markdown",
      "metadata": {
        "id": "view-in-github",
        "colab_type": "text"
      },
      "source": [
        "<a href=\"https://colab.research.google.com/github/Troyanovsky/tiny_chain/blob/main/tiny_chain.ipynb\" target=\"_parent\"><img src=\"https://colab.research.google.com/assets/colab-badge.svg\" alt=\"Open In Colab\"/></a>"
      ]
    },
    {
      "cell_type": "markdown",
      "metadata": {
        "id": "F1RQWJIiWDQI"
      },
      "source": [
        "# Tiny Chain\n",
        "Because LangChain documentation is not easy to navigate + there is too much abstraction, making customization too difficult, I decided to make my own utility functions/classes for LLM usage."
      ]
    },
    {
      "cell_type": "markdown",
      "metadata": {
        "id": "QPGbjQ_zfLOS"
      },
      "source": [
        "## Install packages\n"
      ]
    },
    {
      "cell_type": "code",
      "execution_count": 28,
      "metadata": {
        "colab": {
          "base_uri": "https://localhost:8080/"
        },
        "id": "fjPNNRodfHsY",
        "outputId": "4f033d13-925c-4262-f1b6-a84209a4c5d6"
      },
      "outputs": [
        {
          "output_type": "stream",
          "name": "stdout",
          "text": [
            "Looking in indexes: https://pypi.org/simple, https://us-python.pkg.dev/colab-wheels/public/simple/\n",
            "Requirement already satisfied: openai in /usr/local/lib/python3.10/dist-packages (0.27.8)\n",
            "Requirement already satisfied: requests>=2.20 in /usr/local/lib/python3.10/dist-packages (from openai) (2.31.0)\n",
            "Requirement already satisfied: tqdm in /usr/local/lib/python3.10/dist-packages (from openai) (4.65.0)\n",
            "Requirement already satisfied: aiohttp in /usr/local/lib/python3.10/dist-packages (from openai) (3.8.4)\n",
            "Requirement already satisfied: charset-normalizer<4,>=2 in /usr/local/lib/python3.10/dist-packages (from requests>=2.20->openai) (2.0.12)\n",
            "Requirement already satisfied: idna<4,>=2.5 in /usr/local/lib/python3.10/dist-packages (from requests>=2.20->openai) (3.4)\n",
            "Requirement already satisfied: urllib3<3,>=1.21.1 in /usr/local/lib/python3.10/dist-packages (from requests>=2.20->openai) (1.26.15)\n",
            "Requirement already satisfied: certifi>=2017.4.17 in /usr/local/lib/python3.10/dist-packages (from requests>=2.20->openai) (2022.12.7)\n",
            "Requirement already satisfied: attrs>=17.3.0 in /usr/local/lib/python3.10/dist-packages (from aiohttp->openai) (23.1.0)\n",
            "Requirement already satisfied: multidict<7.0,>=4.5 in /usr/local/lib/python3.10/dist-packages (from aiohttp->openai) (6.0.4)\n",
            "Requirement already satisfied: async-timeout<5.0,>=4.0.0a3 in /usr/local/lib/python3.10/dist-packages (from aiohttp->openai) (4.0.2)\n",
            "Requirement already satisfied: yarl<2.0,>=1.0 in /usr/local/lib/python3.10/dist-packages (from aiohttp->openai) (1.9.2)\n",
            "Requirement already satisfied: frozenlist>=1.1.1 in /usr/local/lib/python3.10/dist-packages (from aiohttp->openai) (1.3.3)\n",
            "Requirement already satisfied: aiosignal>=1.1.2 in /usr/local/lib/python3.10/dist-packages (from aiohttp->openai) (1.3.1)\n",
            "Looking in indexes: https://pypi.org/simple, https://us-python.pkg.dev/colab-wheels/public/simple/\n",
            "Requirement already satisfied: demjson3 in /usr/local/lib/python3.10/dist-packages (3.0.6)\n",
            "Looking in indexes: https://pypi.org/simple, https://us-python.pkg.dev/colab-wheels/public/simple/\n",
            "Requirement already satisfied: tiktoken in /usr/local/lib/python3.10/dist-packages (0.4.0)\n",
            "Requirement already satisfied: regex>=2022.1.18 in /usr/local/lib/python3.10/dist-packages (from tiktoken) (2022.10.31)\n",
            "Requirement already satisfied: requests>=2.26.0 in /usr/local/lib/python3.10/dist-packages (from tiktoken) (2.31.0)\n",
            "Requirement already satisfied: charset-normalizer<4,>=2 in /usr/local/lib/python3.10/dist-packages (from requests>=2.26.0->tiktoken) (2.0.12)\n",
            "Requirement already satisfied: idna<4,>=2.5 in /usr/local/lib/python3.10/dist-packages (from requests>=2.26.0->tiktoken) (3.4)\n",
            "Requirement already satisfied: urllib3<3,>=1.21.1 in /usr/local/lib/python3.10/dist-packages (from requests>=2.26.0->tiktoken) (1.26.15)\n",
            "Requirement already satisfied: certifi>=2017.4.17 in /usr/local/lib/python3.10/dist-packages (from requests>=2.26.0->tiktoken) (2022.12.7)\n",
            "Looking in indexes: https://pypi.org/simple, https://us-python.pkg.dev/colab-wheels/public/simple/\n",
            "Requirement already satisfied: chromadb in /usr/local/lib/python3.10/dist-packages (0.3.26)\n",
            "Requirement already satisfied: pandas>=1.3 in /usr/local/lib/python3.10/dist-packages (from chromadb) (1.5.3)\n",
            "Requirement already satisfied: requests>=2.28 in /usr/local/lib/python3.10/dist-packages (from chromadb) (2.31.0)\n",
            "Requirement already satisfied: pydantic>=1.9 in /usr/local/lib/python3.10/dist-packages (from chromadb) (1.10.7)\n",
            "Requirement already satisfied: hnswlib>=0.7 in /usr/local/lib/python3.10/dist-packages (from chromadb) (0.7.0)\n",
            "Requirement already satisfied: clickhouse-connect>=0.5.7 in /usr/local/lib/python3.10/dist-packages (from chromadb) (0.6.2)\n",
            "Requirement already satisfied: duckdb>=0.7.1 in /usr/local/lib/python3.10/dist-packages (from chromadb) (0.7.1)\n",
            "Requirement already satisfied: fastapi>=0.85.1 in /usr/local/lib/python3.10/dist-packages (from chromadb) (0.97.0)\n",
            "Requirement already satisfied: uvicorn[standard]>=0.18.3 in /usr/local/lib/python3.10/dist-packages (from chromadb) (0.22.0)\n",
            "Requirement already satisfied: numpy>=1.21.6 in /usr/local/lib/python3.10/dist-packages (from chromadb) (1.22.4)\n",
            "Requirement already satisfied: posthog>=2.4.0 in /usr/local/lib/python3.10/dist-packages (from chromadb) (3.0.1)\n",
            "Requirement already satisfied: typing-extensions>=4.5.0 in /usr/local/lib/python3.10/dist-packages (from chromadb) (4.5.0)\n",
            "Requirement already satisfied: pulsar-client>=3.1.0 in /usr/local/lib/python3.10/dist-packages (from chromadb) (3.2.0)\n",
            "Requirement already satisfied: onnxruntime>=1.14.1 in /usr/local/lib/python3.10/dist-packages (from chromadb) (1.15.0)\n",
            "Requirement already satisfied: tokenizers>=0.13.2 in /usr/local/lib/python3.10/dist-packages (from chromadb) (0.13.3)\n",
            "Requirement already satisfied: tqdm>=4.65.0 in /usr/local/lib/python3.10/dist-packages (from chromadb) (4.65.0)\n",
            "Requirement already satisfied: overrides>=7.3.1 in /usr/local/lib/python3.10/dist-packages (from chromadb) (7.3.1)\n",
            "Requirement already satisfied: certifi in /usr/local/lib/python3.10/dist-packages (from clickhouse-connect>=0.5.7->chromadb) (2022.12.7)\n",
            "Requirement already satisfied: urllib3>=1.26 in /usr/local/lib/python3.10/dist-packages (from clickhouse-connect>=0.5.7->chromadb) (1.26.15)\n",
            "Requirement already satisfied: pytz in /usr/local/lib/python3.10/dist-packages (from clickhouse-connect>=0.5.7->chromadb) (2022.7.1)\n",
            "Requirement already satisfied: zstandard in /usr/local/lib/python3.10/dist-packages (from clickhouse-connect>=0.5.7->chromadb) (0.21.0)\n",
            "Requirement already satisfied: lz4 in /usr/local/lib/python3.10/dist-packages (from clickhouse-connect>=0.5.7->chromadb) (4.3.2)\n",
            "Requirement already satisfied: starlette<0.28.0,>=0.27.0 in /usr/local/lib/python3.10/dist-packages (from fastapi>=0.85.1->chromadb) (0.27.0)\n",
            "Requirement already satisfied: coloredlogs in /usr/local/lib/python3.10/dist-packages (from onnxruntime>=1.14.1->chromadb) (15.0.1)\n",
            "Requirement already satisfied: flatbuffers in /usr/local/lib/python3.10/dist-packages (from onnxruntime>=1.14.1->chromadb) (23.3.3)\n",
            "Requirement already satisfied: packaging in /usr/local/lib/python3.10/dist-packages (from onnxruntime>=1.14.1->chromadb) (23.1)\n",
            "Requirement already satisfied: protobuf in /usr/local/lib/python3.10/dist-packages (from onnxruntime>=1.14.1->chromadb) (3.20.3)\n",
            "Requirement already satisfied: sympy in /usr/local/lib/python3.10/dist-packages (from onnxruntime>=1.14.1->chromadb) (1.11.1)\n",
            "Requirement already satisfied: python-dateutil>=2.8.1 in /usr/local/lib/python3.10/dist-packages (from pandas>=1.3->chromadb) (2.8.2)\n",
            "Requirement already satisfied: six>=1.5 in /usr/local/lib/python3.10/dist-packages (from posthog>=2.4.0->chromadb) (1.16.0)\n",
            "Requirement already satisfied: monotonic>=1.5 in /usr/local/lib/python3.10/dist-packages (from posthog>=2.4.0->chromadb) (1.6)\n",
            "Requirement already satisfied: backoff>=1.10.0 in /usr/local/lib/python3.10/dist-packages (from posthog>=2.4.0->chromadb) (2.2.1)\n",
            "Requirement already satisfied: charset-normalizer<4,>=2 in /usr/local/lib/python3.10/dist-packages (from requests>=2.28->chromadb) (2.0.12)\n",
            "Requirement already satisfied: idna<4,>=2.5 in /usr/local/lib/python3.10/dist-packages (from requests>=2.28->chromadb) (3.4)\n",
            "Requirement already satisfied: click>=7.0 in /usr/local/lib/python3.10/dist-packages (from uvicorn[standard]>=0.18.3->chromadb) (8.1.3)\n",
            "Requirement already satisfied: h11>=0.8 in /usr/local/lib/python3.10/dist-packages (from uvicorn[standard]>=0.18.3->chromadb) (0.14.0)\n",
            "Requirement already satisfied: httptools>=0.5.0 in /usr/local/lib/python3.10/dist-packages (from uvicorn[standard]>=0.18.3->chromadb) (0.5.0)\n",
            "Requirement already satisfied: python-dotenv>=0.13 in /usr/local/lib/python3.10/dist-packages (from uvicorn[standard]>=0.18.3->chromadb) (1.0.0)\n",
            "Requirement already satisfied: pyyaml>=5.1 in /usr/local/lib/python3.10/dist-packages (from uvicorn[standard]>=0.18.3->chromadb) (6.0)\n",
            "Requirement already satisfied: uvloop!=0.15.0,!=0.15.1,>=0.14.0 in /usr/local/lib/python3.10/dist-packages (from uvicorn[standard]>=0.18.3->chromadb) (0.17.0)\n",
            "Requirement already satisfied: watchfiles>=0.13 in /usr/local/lib/python3.10/dist-packages (from uvicorn[standard]>=0.18.3->chromadb) (0.19.0)\n",
            "Requirement already satisfied: websockets>=10.4 in /usr/local/lib/python3.10/dist-packages (from uvicorn[standard]>=0.18.3->chromadb) (11.0.3)\n",
            "Requirement already satisfied: anyio<5,>=3.4.0 in /usr/local/lib/python3.10/dist-packages (from starlette<0.28.0,>=0.27.0->fastapi>=0.85.1->chromadb) (3.6.2)\n",
            "Requirement already satisfied: humanfriendly>=9.1 in /usr/local/lib/python3.10/dist-packages (from coloredlogs->onnxruntime>=1.14.1->chromadb) (10.0)\n",
            "Requirement already satisfied: mpmath>=0.19 in /usr/local/lib/python3.10/dist-packages (from sympy->onnxruntime>=1.14.1->chromadb) (1.3.0)\n",
            "Requirement already satisfied: sniffio>=1.1 in /usr/local/lib/python3.10/dist-packages (from anyio<5,>=3.4.0->starlette<0.28.0,>=0.27.0->fastapi>=0.85.1->chromadb) (1.3.0)\n",
            "Looking in indexes: https://pypi.org/simple, https://us-python.pkg.dev/colab-wheels/public/simple/\n",
            "Requirement already satisfied: PyPDF2 in /usr/local/lib/python3.10/dist-packages (3.0.1)\n",
            "Looking in indexes: https://pypi.org/simple, https://us-python.pkg.dev/colab-wheels/public/simple/\n",
            "Requirement already satisfied: python-dotenv in /usr/local/lib/python3.10/dist-packages (1.0.0)\n"
          ]
        }
      ],
      "source": [
        "!pip install openai\n",
        "!pip install demjson3\n",
        "!pip install tiktoken\n",
        "!pip install chromadb\n",
        "!pip install PyPDF2\n",
        "!pip install python-dotenv"
      ]
    },
    {
      "cell_type": "code",
      "execution_count": 29,
      "metadata": {
        "colab": {
          "base_uri": "https://localhost:8080/",
          "height": 73
        },
        "id": "xiqNp2gsiHVd",
        "outputId": "2bc03609-9eed-4786-b82a-4a6439f718bd"
      },
      "outputs": [
        {
          "output_type": "display_data",
          "data": {
            "text/plain": [
              "<IPython.core.display.HTML object>"
            ],
            "text/html": [
              "\n",
              "     <input type=\"file\" id=\"files-961a8716-d376-4653-b818-18a6b2f74dd0\" name=\"files[]\" multiple disabled\n",
              "        style=\"border:none\" />\n",
              "     <output id=\"result-961a8716-d376-4653-b818-18a6b2f74dd0\">\n",
              "      Upload widget is only available when the cell has been executed in the\n",
              "      current browser session. Please rerun this cell to enable.\n",
              "      </output>\n",
              "      <script>// Copyright 2017 Google LLC\n",
              "//\n",
              "// Licensed under the Apache License, Version 2.0 (the \"License\");\n",
              "// you may not use this file except in compliance with the License.\n",
              "// You may obtain a copy of the License at\n",
              "//\n",
              "//      http://www.apache.org/licenses/LICENSE-2.0\n",
              "//\n",
              "// Unless required by applicable law or agreed to in writing, software\n",
              "// distributed under the License is distributed on an \"AS IS\" BASIS,\n",
              "// WITHOUT WARRANTIES OR CONDITIONS OF ANY KIND, either express or implied.\n",
              "// See the License for the specific language governing permissions and\n",
              "// limitations under the License.\n",
              "\n",
              "/**\n",
              " * @fileoverview Helpers for google.colab Python module.\n",
              " */\n",
              "(function(scope) {\n",
              "function span(text, styleAttributes = {}) {\n",
              "  const element = document.createElement('span');\n",
              "  element.textContent = text;\n",
              "  for (const key of Object.keys(styleAttributes)) {\n",
              "    element.style[key] = styleAttributes[key];\n",
              "  }\n",
              "  return element;\n",
              "}\n",
              "\n",
              "// Max number of bytes which will be uploaded at a time.\n",
              "const MAX_PAYLOAD_SIZE = 100 * 1024;\n",
              "\n",
              "function _uploadFiles(inputId, outputId) {\n",
              "  const steps = uploadFilesStep(inputId, outputId);\n",
              "  const outputElement = document.getElementById(outputId);\n",
              "  // Cache steps on the outputElement to make it available for the next call\n",
              "  // to uploadFilesContinue from Python.\n",
              "  outputElement.steps = steps;\n",
              "\n",
              "  return _uploadFilesContinue(outputId);\n",
              "}\n",
              "\n",
              "// This is roughly an async generator (not supported in the browser yet),\n",
              "// where there are multiple asynchronous steps and the Python side is going\n",
              "// to poll for completion of each step.\n",
              "// This uses a Promise to block the python side on completion of each step,\n",
              "// then passes the result of the previous step as the input to the next step.\n",
              "function _uploadFilesContinue(outputId) {\n",
              "  const outputElement = document.getElementById(outputId);\n",
              "  const steps = outputElement.steps;\n",
              "\n",
              "  const next = steps.next(outputElement.lastPromiseValue);\n",
              "  return Promise.resolve(next.value.promise).then((value) => {\n",
              "    // Cache the last promise value to make it available to the next\n",
              "    // step of the generator.\n",
              "    outputElement.lastPromiseValue = value;\n",
              "    return next.value.response;\n",
              "  });\n",
              "}\n",
              "\n",
              "/**\n",
              " * Generator function which is called between each async step of the upload\n",
              " * process.\n",
              " * @param {string} inputId Element ID of the input file picker element.\n",
              " * @param {string} outputId Element ID of the output display.\n",
              " * @return {!Iterable<!Object>} Iterable of next steps.\n",
              " */\n",
              "function* uploadFilesStep(inputId, outputId) {\n",
              "  const inputElement = document.getElementById(inputId);\n",
              "  inputElement.disabled = false;\n",
              "\n",
              "  const outputElement = document.getElementById(outputId);\n",
              "  outputElement.innerHTML = '';\n",
              "\n",
              "  const pickedPromise = new Promise((resolve) => {\n",
              "    inputElement.addEventListener('change', (e) => {\n",
              "      resolve(e.target.files);\n",
              "    });\n",
              "  });\n",
              "\n",
              "  const cancel = document.createElement('button');\n",
              "  inputElement.parentElement.appendChild(cancel);\n",
              "  cancel.textContent = 'Cancel upload';\n",
              "  const cancelPromise = new Promise((resolve) => {\n",
              "    cancel.onclick = () => {\n",
              "      resolve(null);\n",
              "    };\n",
              "  });\n",
              "\n",
              "  // Wait for the user to pick the files.\n",
              "  const files = yield {\n",
              "    promise: Promise.race([pickedPromise, cancelPromise]),\n",
              "    response: {\n",
              "      action: 'starting',\n",
              "    }\n",
              "  };\n",
              "\n",
              "  cancel.remove();\n",
              "\n",
              "  // Disable the input element since further picks are not allowed.\n",
              "  inputElement.disabled = true;\n",
              "\n",
              "  if (!files) {\n",
              "    return {\n",
              "      response: {\n",
              "        action: 'complete',\n",
              "      }\n",
              "    };\n",
              "  }\n",
              "\n",
              "  for (const file of files) {\n",
              "    const li = document.createElement('li');\n",
              "    li.append(span(file.name, {fontWeight: 'bold'}));\n",
              "    li.append(span(\n",
              "        `(${file.type || 'n/a'}) - ${file.size} bytes, ` +\n",
              "        `last modified: ${\n",
              "            file.lastModifiedDate ? file.lastModifiedDate.toLocaleDateString() :\n",
              "                                    'n/a'} - `));\n",
              "    const percent = span('0% done');\n",
              "    li.appendChild(percent);\n",
              "\n",
              "    outputElement.appendChild(li);\n",
              "\n",
              "    const fileDataPromise = new Promise((resolve) => {\n",
              "      const reader = new FileReader();\n",
              "      reader.onload = (e) => {\n",
              "        resolve(e.target.result);\n",
              "      };\n",
              "      reader.readAsArrayBuffer(file);\n",
              "    });\n",
              "    // Wait for the data to be ready.\n",
              "    let fileData = yield {\n",
              "      promise: fileDataPromise,\n",
              "      response: {\n",
              "        action: 'continue',\n",
              "      }\n",
              "    };\n",
              "\n",
              "    // Use a chunked sending to avoid message size limits. See b/62115660.\n",
              "    let position = 0;\n",
              "    do {\n",
              "      const length = Math.min(fileData.byteLength - position, MAX_PAYLOAD_SIZE);\n",
              "      const chunk = new Uint8Array(fileData, position, length);\n",
              "      position += length;\n",
              "\n",
              "      const base64 = btoa(String.fromCharCode.apply(null, chunk));\n",
              "      yield {\n",
              "        response: {\n",
              "          action: 'append',\n",
              "          file: file.name,\n",
              "          data: base64,\n",
              "        },\n",
              "      };\n",
              "\n",
              "      let percentDone = fileData.byteLength === 0 ?\n",
              "          100 :\n",
              "          Math.round((position / fileData.byteLength) * 100);\n",
              "      percent.textContent = `${percentDone}% done`;\n",
              "\n",
              "    } while (position < fileData.byteLength);\n",
              "  }\n",
              "\n",
              "  // All done.\n",
              "  yield {\n",
              "    response: {\n",
              "      action: 'complete',\n",
              "    }\n",
              "  };\n",
              "}\n",
              "\n",
              "scope.google = scope.google || {};\n",
              "scope.google.colab = scope.google.colab || {};\n",
              "scope.google.colab._files = {\n",
              "  _uploadFiles,\n",
              "  _uploadFilesContinue,\n",
              "};\n",
              "})(self);\n",
              "</script> "
            ]
          },
          "metadata": {}
        },
        {
          "output_type": "stream",
          "name": "stdout",
          "text": [
            "Saving env_file_Max.txt to env_file_Max.txt\n"
          ]
        }
      ],
      "source": [
        "import os\n",
        "import openai\n",
        "from dotenv import load_dotenv\n",
        "from google.colab import files\n",
        "\n",
        "# Upload the environment file from your local machine\n",
        "uploaded = files.upload()\n",
        "\n",
        "# Rename the uploaded file to env_file.txt\n",
        "for filename in uploaded.keys():\n",
        "  os.rename(filename, \"env_file.txt\")\n",
        "\n",
        "load_dotenv(\"env_file.txt\")\n",
        "\n",
        "openai.api_key = os.environ.get(\"OPENAI_API_KEY\")"
      ]
    },
    {
      "cell_type": "markdown",
      "metadata": {
        "id": "juYt3E2YfSEi"
      },
      "source": [
        "## Get Response"
      ]
    },
    {
      "cell_type": "code",
      "execution_count": 30,
      "metadata": {
        "id": "1wa6Ls2ffhC8"
      },
      "outputs": [],
      "source": [
        "import time\n",
        "\n",
        "def get_API_Response(prompt,system_prompt=\"You are a helpful assistant\",stop=None):\n",
        "    try:\n",
        "        response = openai.ChatCompletion.create(\n",
        "            model=\"gpt-3.5-turbo\",\n",
        "            temperature = 0,\n",
        "            messages=[\n",
        "                    {\"role\": \"system\", \"content\": system_prompt},\n",
        "                    {\"role\": \"user\", \"content\": prompt}\n",
        "                ],\n",
        "            stop=stop\n",
        "            )\n",
        "        response = str(response['choices'][0]['message']['content']).strip()\n",
        "        return response\n",
        "    except openai.error.RateLimitError as e:\n",
        "        time.sleep(5)\n",
        "        return get_API_Response(prompt)"
      ]
    },
    {
      "cell_type": "markdown",
      "metadata": {
        "id": "FFcP-e3ShyG6"
      },
      "source": [
        "## Memory\n",
        "Memory Class\n",
        "Attributes:\n",
        "- Raw Messages: All previous messages in a list, in the format of a tuple (role_string, message_string). Role can be \"User:\" or \"AI:\"; message can be a string.\n",
        "- Summary: Summary of all previous messages in one string\n",
        "\n",
        "Methods:\n",
        "- Last k words: returns the last messages wtihin the k number of words limit\n",
        "- Summarize messages: summarizes all messages and store to Summary\n",
        "- Add message: add one message string, together with the role.\n",
        "- Delete last message: delete the last message from the list\n",
        "\n"
      ]
    },
    {
      "cell_type": "code",
      "execution_count": 31,
      "metadata": {
        "id": "4E6HBjBy1iia"
      },
      "outputs": [],
      "source": [
        "def count_words(text):\n",
        "    return len(text.split())\n",
        "\n",
        "class SummaryBufferMemory:\n",
        "    def __init__(self, word_limit=1000):\n",
        "        self.raw_messages = []\n",
        "        self.summary = \"\"\n",
        "        self.word_count = 0\n",
        "        self.word_limit = word_limit\n",
        "\n",
        "    def last_messages(self):\n",
        "        message_list = []\n",
        "        word_count = 0\n",
        "\n",
        "        for message_tuple in reversed(self.raw_messages):\n",
        "            message_word_count = count_words(message_tuple[1])\n",
        "            if word_count + message_word_count > self.word_limit:\n",
        "                return \"\\n\".join([f\"{role}: {message}\" for role, message in message_list])\n",
        "            else:\n",
        "                message_list.insert(0,message_tuple)\n",
        "                word_count += message_word_count\n",
        "\n",
        "        return \"\\n\".join([f\"{role}: {message}\" for role, message in message_list])\n",
        "\n",
        "    def summarize_messages(self):\n",
        "        if len(self.raw_messages) >= 1:\n",
        "            messages = \"\\n\".join([f\"{role}: {message}\" for role, message in self.raw_messages])\n",
        "        else:\n",
        "            messages = \"\"\n",
        "        prev_summary = self.summary\n",
        "        summarize_template = f'Summarize the following conversation between an AI and a human in 150 words. The summary must retain all important information. Conversation history:```{messages}``` Previous summary: ```{prev_summary}```'\n",
        "        summary = get_API_Response(summarize_template)\n",
        "        self.summary = summary\n",
        "        self.word_count = 0\n",
        "        return summary\n",
        "\n",
        "    def add_message(self, role, message):\n",
        "        new_message_word_count = count_words(f\"{role}: {message}\")\n",
        "        if new_message_word_count + self.word_count >= self.word_limit:\n",
        "            self.summarize_messages()\n",
        "        self.raw_messages.append((role, message))\n",
        "        self.word_count += new_message_word_count\n",
        "\n",
        "    def delete_last_message(self):\n",
        "        if len(self.raw_messages) > 0:\n",
        "            self.raw_messages.pop()"
      ]
    },
    {
      "cell_type": "markdown",
      "metadata": {
        "id": "x8kjy1uEZ59z"
      },
      "source": [
        "## File loader\n",
        "\n",
        "load txt or pdf files with\n",
        "```\n",
        "content = file_loader(\"file_name\")\n",
        "```"
      ]
    },
    {
      "cell_type": "code",
      "execution_count": 32,
      "metadata": {
        "id": "8RBm3_zYZ-ya"
      },
      "outputs": [],
      "source": [
        "import PyPDF2\n",
        "\n",
        "def file_loader(path):\n",
        "    if path.endswith('.pdf'):\n",
        "        pdf_file = open(path, 'rb')\n",
        "        pdf_reader = PyPDF2.PdfReader(pdf_file)\n",
        "        text = ''\n",
        "        for page in pdf_reader.pages:\n",
        "            text += page.extract_text()\n",
        "        return text\n",
        "    elif path.endswith('.txt'):\n",
        "        with open(path, 'r') as txt_file:\n",
        "            return txt_file.read()\n",
        "    else:\n",
        "        raise ValueError('Unsupported file format')"
      ]
    },
    {
      "cell_type": "code",
      "execution_count": 45,
      "metadata": {
        "colab": {
          "base_uri": "https://localhost:8080/"
        },
        "id": "Kpl-7XIBTXeB",
        "outputId": "afd68785-9576-485b-fdb0-924db4c64403"
      },
      "outputs": [
        {
          "output_type": "stream",
          "name": "stdout",
          "text": [
            " \n",
            "  \n",
            " \n",
            " \n",
            "To our shareholders:    Amazon.com passed many milestones in 1997: by year-end, we had served more than 1.5 million customers, yielding 838% \n",
            "To make a Python package, you can follow these high-level steps:\n",
            "\n",
            "Create a new directory for your package\n",
            "Inside the directory, create a file named __\n"
          ]
        }
      ],
      "source": [
        "# Example usage\n",
        "\n",
        "pdf_content = file_loader(\"shareholder_letters.pdf\")\n",
        "txt_content = file_loader(\"sample.txt\")\n",
        "\n",
        "print(pdf_content[:150])\n",
        "print(txt_content[:150])"
      ]
    },
    {
      "cell_type": "markdown",
      "metadata": {
        "id": "XHCC4A0Lbu_T"
      },
      "source": [
        "## Text Splitter\n",
        "Helper function to split text strings with given word length and overlap.\n",
        "```\n",
        "text_splitter(string, n_words=500, overlap=50)\n",
        "```"
      ]
    },
    {
      "cell_type": "code",
      "execution_count": 34,
      "metadata": {
        "id": "oD2REyhmaenX"
      },
      "outputs": [],
      "source": [
        "def text_splitter(string, n_words=500, overlap=50):\n",
        "    words = string.split()\n",
        "    sections = []\n",
        "\n",
        "    if n_words >= len(words):\n",
        "        return [string]\n",
        "\n",
        "    for i in range(0, len(words) - overlap, n_words - overlap):\n",
        "        section = words[i:i + n_words]\n",
        "        sections.append(' '.join(section))\n",
        "\n",
        "    return sections"
      ]
    },
    {
      "cell_type": "code",
      "execution_count": 35,
      "metadata": {
        "colab": {
          "base_uri": "https://localhost:8080/"
        },
        "id": "5HYd3nAcTDsd",
        "outputId": "0325faed-3515-444c-bc38-1210b8a85b9d"
      },
      "outputs": [
        {
          "output_type": "stream",
          "name": "stdout",
          "text": [
            "[\"It may take some time to adjust to life without caffeine, but it's definitely possible. With a little patience and\", 'With a little patience and effort, you can wean yourself off coffee and caffeine without any unpleasant side effects.']\n"
          ]
        }
      ],
      "source": [
        "# Example usage\n",
        "\n",
        "text = \"It may take some time to adjust to life without caffeine, but it's definitely possible. With a little patience and effort, you can wean yourself off coffee and caffeine without any unpleasant side effects.\"\n",
        "\n",
        "splitted_text = text_splitter(text, 20, 5)\n",
        "\n",
        "print(splitted_text)"
      ]
    },
    {
      "cell_type": "markdown",
      "metadata": {
        "id": "wDSF9TfDKrxu"
      },
      "source": [
        "## Vector Database\n",
        "This vectorIndex class provides an interface to work with a database that uses ChromaDB library for vector indexing and searching.\n",
        "\n",
        "The class has the following methods:\n",
        "\n",
        "- __init__(self, documents): Initializes a ChromaDB client and collection with a list of strings (documents)\n",
        "- add_documents(self, documents): Adds new list of documents to the collection and generates ids for them.\n",
        "- query_documents(self, query_string, n_results=3): Queries the collection using the given query_string and retrieves n_results number of most relevant documents with their associated ids and distances.\n",
        "- delete_documents(self, ids): Deletes documents from the collection based on their ids.\n",
        "- persist(self): Persists the current state of the ChromaDB client to drive."
      ]
    },
    {
      "cell_type": "code",
      "execution_count": 36,
      "metadata": {
        "id": "VnRrrnYNIxCT"
      },
      "outputs": [],
      "source": [
        "import chromadb\n",
        "\n",
        "class vectorIndex:\n",
        "    def __init__(self, documents):\n",
        "        self.client = chromadb.Client(chromadb.config.Settings(chroma_db_impl=\"duckdb+parquet\",persist_directory=\"database\"))\n",
        "        self.collection = self.client.get_or_create_collection(name=\"mydb\")\n",
        "        self.last_id = 0\n",
        "        self.add_documents(documents)\n",
        "\n",
        "    def add_documents(self, documents):\n",
        "        if len(documents) > 0:\n",
        "            ids = [str(self.last_id + i) for i in range(len(documents))]\n",
        "            self.collection.add(documents=documents, ids=ids)\n",
        "            self.last_id += len(documents)\n",
        "\n",
        "    def query_documents(self, query_string, n_results=3):\n",
        "        results = self.collection.query(query_texts=[query_string], n_results=n_results)\n",
        "        documents = results['documents'][0]\n",
        "        ids = results['ids'][0]\n",
        "        distances = results['distances'][0]\n",
        "        result_dict = {'ids': ids, 'documents': documents, 'distances': distances}\n",
        "        return result_dict\n",
        "\n",
        "    def delete_documents(self, ids):\n",
        "        self.collection.delete(ids=ids)\n",
        "\n",
        "    def persist(self):\n",
        "        self.client.persist()"
      ]
    },
    {
      "cell_type": "code",
      "execution_count": 37,
      "metadata": {
        "colab": {
          "base_uri": "https://localhost:8080/"
        },
        "id": "qPZ66mTqS2R_",
        "outputId": "6084ca60-2a9f-44ed-e97e-5ebfcbcefae2"
      },
      "outputs": [
        {
          "output_type": "stream",
          "name": "stderr",
          "text": [
            "/root/.cache/chroma/onnx_models/all-MiniLM-L6-v2/onnx.tar.gz: 100%|██████████| 79.3M/79.3M [00:06<00:00, 12.7MiB/s]\n"
          ]
        },
        {
          "output_type": "stream",
          "name": "stdout",
          "text": [
            "{'ids': ['3', '4'], 'documents': ['Here is chromadb documentation', 'from chromdb.config import Settings'], 'distances': [0.588258683681488, 1.1970349550247192]}\n"
          ]
        }
      ],
      "source": [
        "# Example usage\n",
        "texts = [\"Hello how are you\", \"I'm feeling great\", \"What's the weather like today.\",\n",
        "         \"Here is chromadb documentation\",\"from chromdb.config import Settings\",\n",
        "         \"collection = client.get_or_create_collection(name=\\\"mydb\\\")\"]\n",
        "\n",
        "index = vectorIndex(texts)\n",
        "\n",
        "result = index.query_documents(\"chromadb is a vector database\", 2)\n",
        "print(result)"
      ]
    },
    {
      "cell_type": "markdown",
      "metadata": {
        "id": "M6EfzvBAS9pO"
      },
      "source": [
        "## ReAct Agent\n",
        "An react agent that follows the reasoning-act pattern.\n",
        "\n",
        "Initialize with\n",
        "```\n",
        "agent = ReActAgent(verbose=True)\n",
        "```\n",
        "Add/remove tools with\n",
        "```\n",
        "agent.add_tool((\"tool name\",\"tool description\",function_name))\n",
        "agent.remove_tool(\"tool_name\")\n",
        "```\n",
        "Complete task with\n",
        "```\n",
        "agent.run(\"Your query\")\n",
        "```\n",
        "To see intermediate setps\n",
        "```\n",
        "print(agent.action_history)\n",
        "```"
      ]
    },
    {
      "cell_type": "code",
      "execution_count": 38,
      "metadata": {
        "id": "NIFyApf4VsX0"
      },
      "outputs": [],
      "source": [
        "import demjson3 as json\n",
        "import re\n",
        "\n",
        "class ReActAgent:\n",
        "    def __init__(self, verbose=False, max_steps=10):\n",
        "        self.available_tools = []\n",
        "        self.action_history = []\n",
        "        self.verbose = verbose\n",
        "        self.max_steps = max_steps\n",
        "        self.add_tool((\"GPT tool\",\"Ask GPT for an answer. Use it for logical reasoning or as a fall-back when other tools do not work. Input is a question string.\", get_API_Response))\n",
        "\n",
        "    def add_tool(self, tool):\n",
        "        if (len(tool) == 3 and\n",
        "            isinstance(tool[0], str) and\n",
        "            isinstance(tool[1], str) and\n",
        "            callable(tool[2])):\n",
        "            self.available_tools.append(tool)\n",
        "        else:\n",
        "            raise ValueError(\"Each tool must have three fields: ('tool name string', 'tool description string', function_name)\")\n",
        "\n",
        "    def remove_tool(self, tool_name):\n",
        "        for tool in self.available_tools:\n",
        "            if tool[0] == tool_name:\n",
        "                self.available_tools.remove(tool)\n",
        "\n",
        "    def get_action(self, task_string):\n",
        "        if len(self.available_tools) > 0:\n",
        "            tools_string = \"\"\n",
        "            tool_names = []\n",
        "            for tool in self.available_tools:\n",
        "                tools_string = tools_string + \"\\n\" + tool[0] + \" : \" + tool[1]\n",
        "                tool_names.append(tool[0])\n",
        "        else:\n",
        "            tools_string = \"No available tools\"\n",
        "            tool_names = \"[]\"\n",
        "        action_history_string = \"\"\n",
        "        if len(self.action_history) > 0:\n",
        "            for step in self.action_history:\n",
        "                action_history_string += step[0]\n",
        "                action_history_string += step[1]\n",
        "                action_history_string += step[2]\n",
        "                action_history_string += step[3]\n",
        "        react_template = f'''\n",
        "Answer the following questions as best you can. You have access to the following tools:\n",
        "\n",
        "{tools_string}\n",
        "\n",
        "Use the following format:\n",
        "\n",
        "Question: the input question you must answer\n",
        "Thought: you should always think about what to do\n",
        "Action: the action to take, should be one of {tool_names}\n",
        "Action Input: the input to the action\n",
        "Observation: the result of the action\n",
        "... (this Thought/Action/Action Input/Observation can repeat N times)\n",
        "Thought: I now know the final answer\n",
        "Final Answer: the final answer to the original input question\n",
        "\n",
        "Begin!\n",
        "\n",
        "Question: {task_string}\n",
        "\n",
        "{action_history_string}\n",
        "        '''\n",
        "        response = get_API_Response(react_template, stop=\"Observation:\")\n",
        "        return response\n",
        "\n",
        "    def parse_and_execute(self, action_string):\n",
        "        thought = None\n",
        "        action = None\n",
        "        param = None\n",
        "        result = None\n",
        "\n",
        "        # extract thought\n",
        "        match = re.search(r\"Thought:\\s*(.*)\", action_string)\n",
        "        if match:\n",
        "            thought = match.group(1).strip()\n",
        "\n",
        "        # extract action_name\n",
        "        match = re.search(r\"Action:\\s*(.*)\", action_string)\n",
        "        if match:\n",
        "            action = match.group(1).strip()\n",
        "\n",
        "        # extract param\n",
        "        match = re.search(r\"Action Input:\\s*(.*)\", action_string)\n",
        "        if match:\n",
        "            param = match.group(1).strip()\n",
        "\n",
        "        # find and execute tool function\n",
        "        for tool in self.available_tools:\n",
        "            if tool[0] == action:\n",
        "                try:\n",
        "                    result = tool[2](param)\n",
        "                except Exception as e:\n",
        "                    print(\"Error message:\", str(e))\n",
        "                    result = \"There was an error in tool execution. Please try another tool.\"\n",
        "                break\n",
        "\n",
        "        # handle no matching tool\n",
        "        if result is None:\n",
        "            return f\"The tool {action} doesn't exist. Try another tool\"\n",
        "\n",
        "        return thought, action, param, result\n",
        "\n",
        "    def run(self, task_string):\n",
        "        self.action_history = []\n",
        "        step_count = 0\n",
        "        while True:\n",
        "            step_count += 1\n",
        "            if step_count >= self.max_steps:\n",
        "                print(\"\\nExceeded maximum step count.\")\n",
        "                return \"Exceeded maximum step count.\"\n",
        "            action_string = self.get_action(task_string)\n",
        "            if \"Final Answer:\" in action_string:\n",
        "                print(\"\\n\", action_string)\n",
        "                return action_string\n",
        "            thought, action, param, result = self.parse_and_execute(action_string)\n",
        "            thought_str = \"\\nThought: \" + thought\n",
        "            action_str = \"\\nAction: \" + action\n",
        "            param_str = \"\\nAction Input: \" + param\n",
        "            result_str = \"\\nObservation: \" + result\n",
        "            self.action_history.append((thought_str, action_str, param_str, result_str))\n",
        "            if self.verbose:\n",
        "                print(thought_str)\n",
        "                print(action_str)\n",
        "                print(param_str)\n",
        "                print(result_str)"
      ]
    },
    {
      "cell_type": "code",
      "source": [
        "# Example usage\n",
        "agent = ReActAgent(verbose=True)\n",
        "\n",
        "def calculator(input):\n",
        "    return \"ERROR\"\n",
        "\n",
        "def backup_calculator(input):\n",
        "    return \"4\"\n",
        "\n",
        "agent.add_tool((\"Calculator\", \"Use this tool to calcualte math. Input is a math expression.\", calculator))\n",
        "\n",
        "agent.add_tool((\"Backup Calculator\", \"Use this tool to calcualte math. Use as a backup for Calculator Input is a math expression.\", backup_calculator))\n",
        "\n",
        "answer = agent.run(\"What is 2+2\")"
      ],
      "metadata": {
        "colab": {
          "base_uri": "https://localhost:8080/"
        },
        "id": "mgv0ylJ6jxJz",
        "outputId": "629d9853-1c59-4ab4-9e1d-c8496b515edc"
      },
      "execution_count": 39,
      "outputs": [
        {
          "output_type": "stream",
          "name": "stdout",
          "text": [
            "\n",
            "Thought: This is a simple math question, I can use the calculator tool.\n",
            "\n",
            "Action: Calculator\n",
            "\n",
            "Action Input: 2+2\n",
            "\n",
            "Observation: ERROR\n",
            "\n",
            "Thought: Oh no, the calculator tool is not working. I will try the backup calculator tool.\n",
            "\n",
            "Action: Backup Calculator\n",
            "\n",
            "Action Input: 2+2\n",
            "\n",
            "Observation: 4\n",
            "\n",
            " Thought: I now know the final answer.\n",
            "Final Answer: 4.\n"
          ]
        }
      ]
    }
  ],
  "metadata": {
    "colab": {
      "collapsed_sections": [
        "FFcP-e3ShyG6"
      ],
      "provenance": [],
      "authorship_tag": "ABX9TyNzRuexDbIU0LISnM92Z93h",
      "include_colab_link": true
    },
    "kernelspec": {
      "display_name": "Python 3",
      "name": "python3"
    },
    "language_info": {
      "name": "python"
    }
  },
  "nbformat": 4,
  "nbformat_minor": 0
}